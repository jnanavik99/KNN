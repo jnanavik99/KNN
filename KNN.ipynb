{
 "cells": [
  {
   "cell_type": "code",
   "execution_count": 1,
   "metadata": {},
   "outputs": [],
   "source": [
    "# -*- coding: utf-8 -*-\n",
    "\"\"\"\n",
    "@script-author:jnanavi k r\n",
    "@script-description:Predicting the value using\n",
    "knn algorithm\n",
    "\"\"\"\n",
    "#assign the train and test data\n",
    "train=[[1,2,3],[4,5,6],[7,8,9]]\n",
    "test=[3,6,9]\n",
    "diff=[]"
   ]
  },
  {
   "cell_type": "code",
   "execution_count": 2,
   "metadata": {},
   "outputs": [],
   "source": [
    "#Compute the difference matrix\n",
    "for i in range(len(train)):\n",
    "    im=[]\n",
    "    for j in range(len(test)):\n",
    "        im.append(test[j]-train[i][j])\n",
    "        diff.append(im)\n",
    "        dist=[]"
   ]
  },
  {
   "cell_type": "code",
   "execution_count": 3,
   "metadata": {},
   "outputs": [],
   "source": [
    "#Compute the distance using Euclidian formula\n",
    "for i in range(len(train)):\n",
    "    s=0\n",
    "    for j in range(len(test)):\n",
    "        s+=diff[i][j]**2\n",
    "dist.append(s)\n",
    "\n",
    "dict={} "
   ]
  },
  {
   "cell_type": "code",
   "execution_count": 4,
   "metadata": {},
   "outputs": [
    {
     "data": {
      "text/plain": [
       "[(56, [1, 2, 3])]"
      ]
     },
     "execution_count": 4,
     "metadata": {},
     "output_type": "execute_result"
    }
   ],
   "source": [
    "# creating a dictionary to link the train data and the distance \n",
    "for i in range(len(dist)):\n",
    "    dict[dist[i]]=train[i]\n",
    "#sort the distances \n",
    "dict=sorted(dict.items())\n",
    "dict"
   ]
  },
  {
   "cell_type": "code",
   "execution_count": 5,
   "metadata": {},
   "outputs": [
    {
     "data": {
      "text/plain": [
       "[3.0]"
      ]
     },
     "execution_count": 5,
     "metadata": {},
     "output_type": "execute_result"
    }
   ],
   "source": [
    "#Using the k values estimate the predicted value\n",
    "predict,s=[],0\n",
    "for i in range(len(dict)):\n",
    "    s+=dict[i][1][2]\n",
    "    predict.append(s/(i+1))\n",
    "predict"
   ]
  },
  {
   "cell_type": "code",
   "execution_count": 6,
   "metadata": {},
   "outputs": [],
   "source": [
    "#Estimating error\n",
    "error=[]\n",
    "for i in range(len(predict)):\n",
    "    error.append((test[2]-\n",
    "    predict[i])*100/test[2])\n",
    "    error"
   ]
  },
  {
   "cell_type": "code",
   "execution_count": 7,
   "metadata": {},
   "outputs": [
    {
     "name": "stdout",
     "output_type": "stream",
     "text": [
      "The Accurate value is 3.0\n"
     ]
    }
   ],
   "source": [
    "#estimate the accurate value\n",
    "print(\"The Accurate value is\",predict[error.index(min(error))])"
   ]
  },
  {
   "cell_type": "code",
   "execution_count": null,
   "metadata": {},
   "outputs": [],
   "source": []
  }
 ],
 "metadata": {
  "kernelspec": {
   "display_name": "Python 3",
   "language": "python",
   "name": "python3"
  },
  "language_info": {
   "codemirror_mode": {
    "name": "ipython",
    "version": 3
   },
   "file_extension": ".py",
   "mimetype": "text/x-python",
   "name": "python",
   "nbconvert_exporter": "python",
   "pygments_lexer": "ipython3",
   "version": "3.7.0"
  }
 },
 "nbformat": 4,
 "nbformat_minor": 2
}
